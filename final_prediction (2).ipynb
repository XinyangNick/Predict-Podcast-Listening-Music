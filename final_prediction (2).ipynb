{
 "cells": [
  {
   "cell_type": "code",
   "execution_count": 11,
   "id": "a639f746",
   "metadata": {},
   "outputs": [
    {
     "name": "stdout",
     "output_type": "stream",
     "text": [
      "(749999, 11)\n",
      "Index(['Podcast_Name', 'Episode_Title', 'Episode_Length_minutes', 'Genre',\n",
      "       'Host_Popularity_percentage', 'Publication_Day', 'Publication_Time',\n",
      "       'Guest_Popularity_percentage', 'Number_of_Ads', 'Episode_Sentiment',\n",
      "       'Listening_Time_minutes'],\n",
      "      dtype='object')\n"
     ]
    }
   ],
   "source": [
    "import pandas as pd\n",
    "\n",
    "train_df = pd.read_csv('train.csv').drop(columns=['id'])\n",
    "train_df = train_df.dropna(subset=['Number_of_Ads'])\n",
    "print(train_df.shape)\n",
    "print(train_df.columns)"
   ]
  },
  {
   "cell_type": "code",
   "execution_count": 12,
   "id": "c82c52ce",
   "metadata": {},
   "outputs": [],
   "source": [
    "test_df = pd.read_csv('test.csv')\n",
    "test_id = test_df['id']\n",
    "test_df = test_df.drop(columns=['id'])"
   ]
  },
  {
   "cell_type": "code",
   "execution_count": 13,
   "id": "70825b57",
   "metadata": {},
   "outputs": [
    {
     "name": "stdout",
     "output_type": "stream",
     "text": [
      "(749999, 10)\n",
      "(749999,)\n",
      "Index(['Podcast_Name', 'Episode_Title', 'Episode_Length_minutes', 'Genre',\n",
      "       'Host_Popularity_percentage', 'Publication_Day', 'Publication_Time',\n",
      "       'Guest_Popularity_percentage', 'Number_of_Ads', 'Episode_Sentiment'],\n",
      "      dtype='object')\n"
     ]
    }
   ],
   "source": [
    "# get the target variable and features\n",
    "X_sub_train = train_df.drop(columns=['Listening_Time_minutes'])\n",
    "y_sub_train = train_df['Listening_Time_minutes']\n",
    "\n",
    "print(X_sub_train.shape)\n",
    "print(y_sub_train.shape)\n",
    "print(test_df.columns)"
   ]
  },
  {
   "cell_type": "code",
   "execution_count": 14,
   "id": "a3efc87e",
   "metadata": {},
   "outputs": [
    {
     "data": {
      "text/plain": [
       "['Episode_Length_minutes',\n",
       " 'Host_Popularity_percentage',\n",
       " 'Guest_Popularity_percentage',\n",
       " 'Number_of_Ads']"
      ]
     },
     "execution_count": 14,
     "metadata": {},
     "output_type": "execute_result"
    }
   ],
   "source": [
    "num_attributes = X_sub_train.select_dtypes(include=['int64', 'float64']).columns.tolist()\n",
    "cat_attributes = X_sub_train.select_dtypes(include=['object']).columns.tolist()\n",
    "\n",
    "num_attributes"
   ]
  },
  {
   "cell_type": "code",
   "execution_count": 15,
   "id": "8e117903",
   "metadata": {},
   "outputs": [],
   "source": [
    "import pandas as pd\n",
    "from sklearn.base import BaseEstimator, TransformerMixin\n",
    "\n",
    "class GroupMedianImputer(BaseEstimator, TransformerMixin):\n",
    "    \"\"\"\n",
    "    Imputes missing values in col_to_impute by taking\n",
    "    the median of that column within groups defined by group_cols.\n",
    "    \"\"\"\n",
    "    def __init__(self, group_cols, col_to_impute):\n",
    "        self.group_cols = group_cols\n",
    "        self.col_to_impute = col_to_impute\n",
    "        self.group_medians_ = None\n",
    "        self.global_median_ = None\n",
    "\n",
    "    def fit(self, X, y=None):\n",
    "        # Convert to DataFrame if needed\n",
    "        df = pd.DataFrame(X.copy())\n",
    "        \n",
    "        # Compute groupwise median\n",
    "        self.group_medians_ = (\n",
    "            df.groupby(self.group_cols)[self.col_to_impute]\n",
    "              .median()\n",
    "              .to_dict()\n",
    "        )\n",
    "        # Compute overall median as fallback\n",
    "        self.global_median_ = df[self.col_to_impute].median()\n",
    "        return self\n",
    "\n",
    "    def transform(self, X, y=None):\n",
    "        df = pd.DataFrame(X.copy())\n",
    "        \n",
    "        # We'll apply groupwise median for each row\n",
    "        def fill_with_group_median(row):\n",
    "            group_key = tuple(row[col] for col in self.group_cols)\n",
    "            if pd.isna(row[self.col_to_impute]):\n",
    "                # if group exists in dictionary, use that median\n",
    "                # otherwise, use global median\n",
    "                return self.group_medians_.get(group_key, self.global_median_)\n",
    "            else:\n",
    "                return row[self.col_to_impute]\n",
    "        \n",
    "        df[self.col_to_impute] = df.apply(fill_with_group_median, axis=1)\n",
    "        \n",
    "        # Fill any remaining missing with global median\n",
    "        df[self.col_to_impute].fillna(self.global_median_, inplace=True)\n",
    "        \n",
    "        return df\n",
    "\n"
   ]
  },
  {
   "cell_type": "code",
   "execution_count": 16,
   "id": "06f9f135",
   "metadata": {},
   "outputs": [],
   "source": [
    "from sklearn.base import BaseEstimator, TransformerMixin\n",
    "import numpy as np\n",
    "\n",
    "\n",
    "col_names = num_attributes\n",
    "\n",
    "#find the column number of the column 'Episode_Length_minutes', 'Guest_Popularity_percentage', 'Host_Popularity_percentage'\n",
    "episode_length_index = col_names.index('Episode_Length_minutes')\n",
    "guest_popularity_index = col_names.index('Guest_Popularity_percentage')\n",
    "host_popularity_index = col_names.index('Host_Popularity_percentage')\n",
    "\n",
    "class NewAttributesAdder(BaseEstimator, TransformerMixin):\n",
    "    \"\"\"\n",
    "    Adds new attributes to the DataFrame.\n",
    "    \"\"\"\n",
    "    def __init__(self, add_new_attributes=1):\n",
    "        self.add_new_attributes = add_new_attributes\n",
    "    def fit(self, X, y=None):\n",
    "        return self\n",
    "\n",
    "    def transform(self, X, y=None):\n",
    "       \n",
    "        ideal_listening_time_guest1 = X[:, episode_length_index] * X[:, host_popularity_index] * 0.01\n",
    "\n",
    "        ideal_listening_time_guest2 = X[:, episode_length_index] * X[:, guest_popularity_index] * 0.01\n",
    "\n",
    "        # Add the new attributes to the DataFrame\n",
    "        ideal_listening_time_guest3 = X[:, episode_length_index] * (X[:, host_popularity_index] * X[:, guest_popularity_index] * 0.0001)\n",
    "\n",
    "        return np.c_[X, ideal_listening_time_guest1, ideal_listening_time_guest2]\n",
    "    \n",
    "\n",
    "\n",
    "\n"
   ]
  },
  {
   "cell_type": "markdown",
   "id": "bf096d85",
   "metadata": {},
   "source": [
    "# Model 5 Use median of global data set to impute.\n",
    "\n",
    "Also add new attribute that popularity "
   ]
  },
  {
   "cell_type": "code",
   "execution_count": 17,
   "id": "c757f540",
   "metadata": {},
   "outputs": [
    {
     "name": "stdout",
     "output_type": "stream",
     "text": [
      "['Episode_Length_minutes', 'Host_Popularity_percentage', 'Guest_Popularity_percentage', 'Number_of_Ads']\n",
      "['Podcast_Name', 'Episode_Title', 'Genre', 'Publication_Day', 'Publication_Time', 'Episode_Sentiment']\n"
     ]
    }
   ],
   "source": [
    "from sklearn.preprocessing import OneHotEncoder, MinMaxScaler, RobustScaler\n",
    "from sklearn.pipeline import Pipeline\n",
    "from sklearn.compose import ColumnTransformer\n",
    "from sklearn.impute import SimpleImputer\n",
    "# Create a pipeline with the custom and simple imputers\n",
    "\n",
    "from sklearn.impute import KNNImputer\n",
    "\n",
    "# Assume X is your feature matrix\n",
    "knn_imputer = KNNImputer(n_neighbors=5)\n",
    "\n",
    "\n",
    "\n",
    "group_imputer = GroupMedianImputer(\n",
    "    group_cols=['Podcast_Name', 'Episode_Title'], \n",
    "    col_to_impute='Episode_Length_minutes'\n",
    ")\n",
    "\n",
    "group_imputer2 = GroupMedianImputer(\n",
    "    group_cols=['Podcast_Name', 'Episode_Title'], \n",
    "    col_to_impute='Guest_Popularity_percentage'\n",
    ")\n",
    "\n",
    "simple_imputer = SimpleImputer(strategy='median')\n",
    "\n",
    "\n",
    "imputer_pipeline = Pipeline(\n",
    "    steps=[\n",
    "        ('group_imputer', group_imputer),\n",
    "        ('group_imputer2', group_imputer2)\n",
    "    ]\n",
    ")\n",
    "\n",
    "\n",
    "col_names = X_sub_train.columns.tolist()\n",
    "\n",
    "\n",
    "attr_adder = NewAttributesAdder(add_new_attributes=1)\n",
    "\n",
    "\n",
    "num_attributes = X_sub_train.select_dtypes(include=['int64', 'float64']).columns.tolist()\n",
    "cat_attributes = X_sub_train.select_dtypes(include=['object']).columns.tolist()\n",
    "\n",
    "print(num_attributes)\n",
    "\n",
    "print(cat_attributes)\n",
    "\n",
    "num_pipeline = Pipeline([\n",
    "    ('minmax', MinMaxScaler()),\n",
    "    ('imputer', simple_imputer),\n",
    "    ('attr_adder', attr_adder)\n",
    "])\n",
    "\n",
    "num_pipeline2 = Pipeline([\n",
    "    ('minmax', RobustScaler()),\n",
    "    ('imputer', simple_imputer),\n",
    "    ('attr_adder', attr_adder)\n",
    "])\n",
    "\n",
    "\n",
    "cat_pipeline = Pipeline([\n",
    "    ('onehot', OneHotEncoder())\n",
    "])\n",
    "\n",
    "\n",
    "combine_pipeline = ColumnTransformer([\n",
    "    ('scaler', num_pipeline, num_attributes),\n",
    "    ('cat', cat_pipeline, cat_attributes)\n",
    "])\n",
    "\n",
    "combine_pipeline2 = ColumnTransformer([\n",
    "    ('scaler', num_pipeline2, num_attributes),\n",
    "    ('cat', cat_pipeline, cat_attributes)\n",
    "])\n",
    "\n",
    "# Fit the imputer pipeline on the training data\n",
    "full_pipeline = Pipeline(steps=[\n",
    "    ('imputer', imputer_pipeline),\n",
    "    ('combine', combine_pipeline)\n",
    "])"
   ]
  },
  {
   "cell_type": "code",
   "execution_count": 18,
   "id": "20f9ad7e",
   "metadata": {},
   "outputs": [],
   "source": [
    "train_df_grouped_imputed = combine_pipeline2.fit_transform(X_sub_train)\n",
    "test_df_grouped_imputed = combine_pipeline2.transform(test_df)\n"
   ]
  },
  {
   "cell_type": "code",
   "execution_count": 19,
   "id": "d27cd830",
   "metadata": {},
   "outputs": [
    {
     "name": "stdout",
     "output_type": "stream",
     "text": [
      "  (0, 1)\t0.3678963110667997\n",
      "  (0, 3)\t-0.5\n",
      "  (0, 40)\t1.0\n",
      "  (0, 152)\t1.0\n",
      "  (0, 163)\t1.0\n",
      "  (0, 168)\t1.0\n",
      "  (0, 174)\t1.0\n",
      "  (0, 177)\t1.0\n"
     ]
    }
   ],
   "source": [
    "print(train_df_grouped_imputed[0])"
   ]
  },
  {
   "cell_type": "code",
   "execution_count": null,
   "id": "9b632d84",
   "metadata": {},
   "outputs": [
    {
     "ename": "SyntaxError",
     "evalue": "invalid syntax (2965981469.py, line 4)",
     "output_type": "error",
     "traceback": [
      "\u001b[1;36m  Cell \u001b[1;32mIn[20], line 4\u001b[1;36m\u001b[0m\n\u001b[1;33m    xgb_reg = XGBRegressor(n_estimators: 500, min_child_weight: 2, max_depth: 16, learning_rate: 0.03)\u001b[0m\n\u001b[1;37m                                       ^\u001b[0m\n\u001b[1;31mSyntaxError\u001b[0m\u001b[1;31m:\u001b[0m invalid syntax\n"
     ]
    }
   ],
   "source": [
    "from xgboost import XGBRegressor\n",
    "\n",
    "#xgb_reg = XGBRegressor(n_estimators=500, learning_rate=0.04, max_depth=15, random_state=42)\n",
    "xgb_reg = XGBRegressor(n_estimators=500, min_child_weight=2, max_depth=16, learning_rate=0.03)\n",
    "\n",
    "\n",
    "xgb_reg.fit(train_df_grouped_imputed, y_sub_train)\n",
    "y_pred = xgb_reg.predict(test_df_grouped_imputed)\n",
    "print(y_pred[0])\n",
    "\n",
    "# Combine the id with the predictions into a DataFrame\n",
    "submission_df = pd.DataFrame({'id': test_id, 'Listening_Time_minutes': y_pred})\n",
    "submission_df.to_csv('submission.csv', index=False)\n",
    "print(submission_df.head())\n",
    "print(submission_df.shape)"
   ]
  },
  {
   "cell_type": "code",
   "execution_count": null,
   "id": "df45fc5d",
   "metadata": {},
   "outputs": [],
   "source": []
  }
 ],
 "metadata": {
  "kernelspec": {
   "display_name": "base",
   "language": "python",
   "name": "python3"
  },
  "language_info": {
   "codemirror_mode": {
    "name": "ipython",
    "version": 3
   },
   "file_extension": ".py",
   "mimetype": "text/x-python",
   "name": "python",
   "nbconvert_exporter": "python",
   "pygments_lexer": "ipython3",
   "version": "3.12.4"
  }
 },
 "nbformat": 4,
 "nbformat_minor": 5
}
